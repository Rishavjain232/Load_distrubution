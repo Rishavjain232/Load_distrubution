{
 "cells": [
  {
   "cell_type": "code",
   "execution_count": 19,
   "metadata": {},
   "outputs": [],
   "source": [
    "from pandas import read_csv\n",
    "from pandas import datetime\n",
    "from matplotlib import pyplot\n",
    "from statsmodels.tsa.arima_model import ARIMA\n",
    "from sklearn.metrics import mean_squared_error\n",
    "import numpy\n",
    "from math import sqrt\n",
    "import matplotlib.dates as mdates\n",
    "import inspect\n",
    "\n",
    "\n",
    "import os\n",
    "import xml.etree.ElementTree as et\n",
    "\n"
   ]
  },
  {
   "cell_type": "code",
   "execution_count": 20,
   "metadata": {},
   "outputs": [],
   "source": [
    "#base_path=os.path.dirname(os.path.realpath(__file__))\n",
    "#print(base_path)\n",
    "base_path=( os.path.dirname(os.path.abspath(inspect.getfile(inspect.currentframe()))))\n"
   ]
  },
  {
   "cell_type": "code",
   "execution_count": 26,
   "metadata": {},
   "outputs": [
    {
     "name": "stdout",
     "output_type": "stream",
     "text": [
      "C:\\datacenters.xml\n"
     ]
    }
   ],
   "source": [
    "xml_file=os.path.join(base_path,\"\\\\datacenters.xml\")\n",
    "print(xml_file)\n"
   ]
  },
  {
   "cell_type": "code",
   "execution_count": 40,
   "metadata": {},
   "outputs": [],
   "source": [
    "e = xml.etree.ElementTree.parse('datacenters.xml')\n",
    "root=e.getroot()"
   ]
  },
  {
   "cell_type": "code",
   "execution_count": 75,
   "metadata": {},
   "outputs": [
    {
     "name": "stdout",
     "output_type": "stream",
     "text": [
      "32\n"
     ]
    }
   ],
   "source": [
    "a=[22,32,43,54]\n",
    "type(a)\n",
    "print (a[1])"
   ]
  },
  {
   "cell_type": "code",
   "execution_count": 76,
   "metadata": {},
   "outputs": [],
   "source": [
    "i=0\n",
    "for child in root:\n",
    "    for element in child:\n",
    "        if(element.tag=='greenEnergy'):\n",
    "                element.text=str(a[i])\n",
    "                i=i+1\n",
    "                "
   ]
  },
  {
   "cell_type": "code",
   "execution_count": 77,
   "metadata": {},
   "outputs": [],
   "source": [
    "e.write('datacenters.xml')"
   ]
  },
  {
   "cell_type": "code",
   "execution_count": 78,
   "metadata": {},
   "outputs": [
    {
     "name": "stdout",
     "output_type": "stream",
     "text": [
      "greenEnergy : 22\n",
      "greenEnergy : 32\n",
      "greenEnergy : 43\n"
     ]
    }
   ],
   "source": [
    "for child in root:\n",
    "    for element in child:\n",
    "        if(element.tag=='greenEnergy'):\n",
    "            print(element.tag,\":\",element.text)\n",
    "        "
   ]
  },
  {
   "cell_type": "code",
   "execution_count": 79,
   "metadata": {},
   "outputs": [],
   "source": [
    "e.write(\"datacenters.xml\")"
   ]
  },
  {
   "cell_type": "code",
   "execution_count": null,
   "metadata": {
    "collapsed": true
   },
   "outputs": [],
   "source": []
  }
 ],
 "metadata": {
  "kernelspec": {
   "display_name": "Python 3",
   "language": "python",
   "name": "python3"
  },
  "language_info": {
   "codemirror_mode": {
    "name": "ipython",
    "version": 3
   },
   "file_extension": ".py",
   "mimetype": "text/x-python",
   "name": "python",
   "nbconvert_exporter": "python",
   "pygments_lexer": "ipython3",
   "version": "3.6.3"
  }
 },
 "nbformat": 4,
 "nbformat_minor": 2
}
